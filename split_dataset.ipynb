{
 "cells": [
  {
   "cell_type": "markdown",
   "metadata": {},
   "source": [
    "Split Dataset"
   ]
  },
  {
   "cell_type": "code",
   "execution_count": null,
   "metadata": {},
   "outputs": [],
   "source": [
    "import os\n",
    "from sklearn.model_selection import train_test_split\n",
    "import shutil\n",
    "\n",
    "# Lokasi dataset asli\n",
    "base_dir = '../../Dataset/Dataset_Nusantara_7'  # Sesuaikan path dataset\n",
    "train_dir = '../../Dataset/Dataset_Nusantara_7_split_stratified/train'\n",
    "test_dir = '../../Dataset/Dataset_Nusantara_7_split_stratified/test'\n",
    "\n",
    "# Membuat folder untuk data train dan test jika belum ada\n",
    "os.makedirs(train_dir, exist_ok=True)\n",
    "os.makedirs(test_dir, exist_ok=True)\n",
    "\n",
    "# Mendapatkan daftar kelas (subfolder dalam dataset)\n",
    "classes = [d for d in os.listdir(base_dir) if os.path.isdir(os.path.join(base_dir, d))]\n",
    "\n",
    "# List untuk menyimpan gambar dan label\n",
    "all_images = []\n",
    "all_labels = []\n",
    "\n",
    "# Loop melalui setiap kelas dan simpan daftar gambar beserta labelnya\n",
    "for cls in classes:\n",
    "    cls_path = os.path.join(base_dir, cls)\n",
    "    images = os.listdir(cls_path)\n",
    "    \n",
    "    # Simpan path gambar dan label kelasnya\n",
    "    all_images.extend([os.path.join(cls_path, img) for img in images])\n",
    "    all_labels.extend([cls] * len(images))  # Label sesuai dengan jumlah gambar\n",
    "\n",
    "# Membagi dataset dengan stratify agar distribusi kelas tetap terjaga\n",
    "train_imgs, test_imgs, train_labels, test_labels = train_test_split(\n",
    "    all_images, all_labels, test_size=0.2, random_state=42, stratify=all_labels\n",
    ")\n",
    "\n",
    "# Fungsi untuk menyalin gambar ke folder tujuan\n",
    "def copy_images(image_paths, labels, dest_dir):\n",
    "    for img_path, label in zip(image_paths, labels):\n",
    "        label_dir = os.path.join(dest_dir, label)\n",
    "        os.makedirs(label_dir, exist_ok=True)  # Pastikan folder kelas sudah ada\n",
    "        shutil.copy2(img_path, os.path.join(label_dir, os.path.basename(img_path)))\n",
    "\n",
    "# Memindahkan file ke folder train dan test\n",
    "copy_images(train_imgs, train_labels, train_dir)\n",
    "copy_images(test_imgs, test_labels, test_dir)\n",
    "\n",
    "print(\"Pembagian dataset selesai dengan Stratified Train-Test Split.\")\n"
   ]
  },
  {
   "cell_type": "code",
   "execution_count": 1,
   "metadata": {},
   "outputs": [
    {
     "name": "stdout",
     "output_type": "stream",
     "text": [
      "Pembersihan selesai, lanjut training.\n"
     ]
    }
   ],
   "source": [
    "from PIL import Image\n",
    "import os\n",
    "\n",
    "train_dir = 'Dataset/Dataset_Nusantara_7'\n",
    "test_dir = 'Dataset/Dataset_Testing'\n",
    "\n",
    "# Path dataset (ubah sesuai dengan path dataset kamu)\n",
    "dataset_dirs = [train_dir, test_dir]\n",
    "\n",
    "for dataset_dir in dataset_dirs:\n",
    "    for cls in os.listdir(dataset_dir):\n",
    "        cls_path = os.path.join(dataset_dir, cls)\n",
    "        if os.path.isdir(cls_path):  # Cek apakah ini folder kelas\n",
    "            for img_file in os.listdir(cls_path):\n",
    "                img_path = os.path.join(cls_path, img_file)\n",
    "                try:\n",
    "                    img = Image.open(img_path)  # Coba buka gambar\n",
    "                    img.verify()  # Verifikasi gambar\n",
    "                except (IOError, SyntaxError):\n",
    "                    print(f\"File bermasalah: {img_path}, akan dihapus.\")\n",
    "                    os.remove(img_path)  # Hapus file rusak\n",
    "\n",
    "print(\"Pembersihan selesai, lanjut training.\")\n"
   ]
  }
 ],
 "metadata": {
  "kernelspec": {
   "display_name": "Python 3",
   "language": "python",
   "name": "python3"
  },
  "language_info": {
   "codemirror_mode": {
    "name": "ipython",
    "version": 3
   },
   "file_extension": ".py",
   "mimetype": "text/x-python",
   "name": "python",
   "nbconvert_exporter": "python",
   "pygments_lexer": "ipython3",
   "version": "3.10.0"
  }
 },
 "nbformat": 4,
 "nbformat_minor": 2
}
