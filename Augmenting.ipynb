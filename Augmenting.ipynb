{
 "cells": [
  {
   "cell_type": "markdown",
   "metadata": {},
   "source": [
    "Augmentasi Dataset"
   ]
  },
  {
   "cell_type": "code",
   "execution_count": 1,
   "metadata": {},
   "outputs": [
    {
     "name": "stderr",
     "output_type": "stream",
     "text": [
      "c:\\Users\\VITO KA\\AppData\\Local\\Programs\\Python\\Python310\\lib\\site-packages\\tqdm\\auto.py:21: TqdmWarning: IProgress not found. Please update jupyter and ipywidgets. See https://ipywidgets.readthedocs.io/en/stable/user_install.html\n",
      "  from .autonotebook import tqdm as notebook_tqdm\n",
      "C:\\Users\\VITO KA\\AppData\\Local\\Temp\\ipykernel_19352\\2693933314.py:23: UserWarning: Argument(s) 'max_holes, max_height, max_width' are not valid for transform CoarseDropout\n",
      "  A.CoarseDropout(max_holes=8, max_height=16, max_width=16, p=1.0),  # Random erase\n"
     ]
    },
    {
     "name": "stdout",
     "output_type": "stream",
     "text": [
      "Augmentasi selesai. Setiap kelas sekarang memiliki 1100 gambar.\n"
     ]
    }
   ],
   "source": [
    "import os\n",
    "import random\n",
    "import shutil\n",
    "import cv2\n",
    "import numpy as np\n",
    "import albumentations as A\n",
    "\n",
    "# Lokasi dataset asli dan tujuan\n",
    "base_dir = '../../Dataset/Dataset_Nusantara_7'\n",
    "augmented_dir = '../../Dataset/Dataset_Nusantara_7_augmented_1100'\n",
    "\n",
    "# Membuat folder untuk data augmented jika belum ada\n",
    "os.makedirs(augmented_dir, exist_ok=True)\n",
    "\n",
    "# Mendapatkan daftar kelas\n",
    "classes = [d for d in os.listdir(base_dir) if os.path.isdir(os.path.join(base_dir, d))]\n",
    "\n",
    "# Fungsi augmentasi\n",
    "augmentations = [\n",
    "    A.Rotate(limit=90, p=1.0),\n",
    "    A.VerticalFlip(p=1.0),\n",
    "    A.RandomScale(scale_limit=(0.2, 0.5), p=1.0),  # Zoom in\n",
    "    A.CoarseDropout(max_holes=8, max_height=16, max_width=16, p=1.0),  # Random erase\n",
    "    A.GridDropout(ratio=0.5, p=1.0)  # GridMask\n",
    "]\n",
    "\n",
    "def apply_augmentation(image, aug):\n",
    "    augmented = aug(image=image)\n",
    "    return augmented['image']\n",
    "\n",
    "# Loop melalui setiap kelas\n",
    "for cls in classes:\n",
    "    cls_path = os.path.join(base_dir, cls)\n",
    "    images = os.listdir(cls_path)\n",
    "    images = [os.path.join(cls_path, img) for img in images]\n",
    "    label_dir = os.path.join(augmented_dir, cls)\n",
    "    os.makedirs(label_dir, exist_ok=True)\n",
    "    \n",
    "    # Copy gambar asli terlebih dahulu\n",
    "    for img_path in images:\n",
    "        shutil.copy2(img_path, os.path.join(label_dir, os.path.basename(img_path)))\n",
    "    \n",
    "    # Augmentasi gambar hingga mencapai 1000\n",
    "    current_count = len(images)\n",
    "    index = 0\n",
    "    while current_count < 1100:\n",
    "        img_path = images[index % len(images)]  # Ambil gambar secara bergantian\n",
    "        image = cv2.imread(img_path)\n",
    "        image = cv2.cvtColor(image, cv2.COLOR_BGR2RGB)\n",
    "        \n",
    "        # Pilih augmentasi secara acak\n",
    "        aug = random.choice(augmentations)\n",
    "        augmented_image = apply_augmentation(image, aug)\n",
    "        \n",
    "        # Simpan gambar hasil augmentasi\n",
    "        new_filename = f\"aug_{current_count}_{os.path.basename(img_path)}\"\n",
    "        save_path = os.path.join(label_dir, new_filename)\n",
    "        cv2.imwrite(save_path, cv2.cvtColor(augmented_image, cv2.COLOR_RGB2BGR))\n",
    "        \n",
    "        current_count += 1\n",
    "        index += 1\n",
    "\n",
    "print(\"Augmentasi selesai. Setiap kelas sekarang memiliki 1100 gambar.\")\n"
   ]
  },
  {
   "cell_type": "markdown",
   "metadata": {},
   "source": [
    "Split Dataset Augmentasi"
   ]
  },
  {
   "cell_type": "code",
   "execution_count": 3,
   "metadata": {},
   "outputs": [
    {
     "name": "stdout",
     "output_type": "stream",
     "text": [
      "Kelas: JawaBarat_Megamendung | Train: 1000 gambar | Test: 100 gambar\n",
      "Kelas: Kalimantan_CorakInsang | Train: 1000 gambar | Test: 100 gambar\n",
      "Kelas: Kalimantan_Dayak | Train: 1000 gambar | Test: 100 gambar\n",
      "Kelas: Papua_Cendrawasih | Train: 1000 gambar | Test: 100 gambar\n",
      "Kelas: Solo_Parang | Train: 1000 gambar | Test: 100 gambar\n",
      "Kelas: Tiongkok_IkatCelup | Train: 1000 gambar | Test: 100 gambar\n",
      "Kelas: Yogyakarta_Kawung | Train: 1000 gambar | Test: 100 gambar\n",
      "\n",
      "Pembagian dataset selesai: 100 gambar per kelas untuk test, sisanya untuk train.\n"
     ]
    }
   ],
   "source": [
    "import os\n",
    "import random\n",
    "import shutil\n",
    "\n",
    "# Lokasi dataset asli\n",
    "base_dir = '../../Dataset/Dataset_Nusantara_7_augmented_1100'  # Sesuaikan path dataset\n",
    "train_dir = '../../Dataset/Dataset_Nusantara_7_augmented_1100_split/train'\n",
    "test_dir = '../../Dataset/Dataset_Nusantara_7_augmented_1100_split/test'\n",
    "\n",
    "# Membuat folder untuk data train dan test jika belum ada\n",
    "os.makedirs(train_dir, exist_ok=True)\n",
    "os.makedirs(test_dir, exist_ok=True)\n",
    "\n",
    "# Mendapatkan daftar kelas (subfolder dalam dataset)\n",
    "classes = [d for d in os.listdir(base_dir) if os.path.isdir(os.path.join(base_dir, d))]\n",
    "\n",
    "# Fungsi untuk menyalin gambar ke folder tujuan\n",
    "def copy_images(image_paths, dest_dir, label):\n",
    "    label_dir = os.path.join(dest_dir, label)\n",
    "    os.makedirs(label_dir, exist_ok=True)\n",
    "    for img_path in image_paths:\n",
    "        shutil.copy2(img_path, os.path.join(label_dir, os.path.basename(img_path)))\n",
    "\n",
    "# Jumlah gambar yang ingin dimasukkan ke test set per kelas\n",
    "num_test_images = 100\n",
    "\n",
    "# Loop melalui setiap kelas dan membagi dataset\n",
    "for cls in classes:\n",
    "    cls_path = os.path.join(base_dir, cls)\n",
    "    images = [os.path.join(cls_path, img) for img in os.listdir(cls_path) if os.path.isfile(os.path.join(cls_path, img))]\n",
    "    \n",
    "    # Pengecekan jumlah gambar\n",
    "    if len(images) < num_test_images:\n",
    "        raise ValueError(f\"Kelas '{cls}' hanya memiliki {len(images)} gambar, tidak cukup untuk mengambil {num_test_images} gambar untuk test.\")\n",
    "    \n",
    "    # Acak urutan gambar\n",
    "    random.shuffle(images)\n",
    "    \n",
    "    # Bagi data\n",
    "    test_imgs = images[:num_test_images]\n",
    "    train_imgs = images[num_test_images:]\n",
    "    \n",
    "    # Copy gambar ke folder yang sesuai\n",
    "    copy_images(train_imgs, train_dir, cls)\n",
    "    copy_images(test_imgs, test_dir, cls)\n",
    "\n",
    "    # Log jumlah gambar\n",
    "    print(f\"Kelas: {cls} | Train: {len(train_imgs)} gambar | Test: {len(test_imgs)} gambar\")\n",
    "\n",
    "print(\"\\nPembagian dataset selesai: 100 gambar per kelas untuk test, sisanya untuk train.\")\n"
   ]
  }
 ],
 "metadata": {
  "kernelspec": {
   "display_name": "Python 3",
   "language": "python",
   "name": "python3"
  },
  "language_info": {
   "codemirror_mode": {
    "name": "ipython",
    "version": 3
   },
   "file_extension": ".py",
   "mimetype": "text/x-python",
   "name": "python",
   "nbconvert_exporter": "python",
   "pygments_lexer": "ipython3",
   "version": "3.10.0"
  }
 },
 "nbformat": 4,
 "nbformat_minor": 2
}
